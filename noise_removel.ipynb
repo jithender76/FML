{
  "nbformat": 4,
  "nbformat_minor": 0,
  "metadata": {
    "colab": {
      "provenance": [],
      "toc_visible": true
    },
    "kernelspec": {
      "name": "python3",
      "display_name": "Python 3"
    },
    "language_info": {
      "name": "python"
    }
  },
  "cells": [
    {
      "cell_type": "code",
      "execution_count": 1,
      "metadata": {
        "colab": {
          "base_uri": "https://localhost:8080/"
        },
        "id": "QIuzp2BhLaIk",
        "outputId": "27c35303-5156-4d31-dc36-5d6a1a321734"
      },
      "outputs": [
        {
          "output_type": "stream",
          "name": "stderr",
          "text": [
            "[nltk_data] Downloading package stopwords to /root/nltk_data...\n",
            "[nltk_data]   Unzipping corpora/stopwords.zip.\n",
            "[nltk_data] Downloading package punkt to /root/nltk_data...\n",
            "[nltk_data]   Unzipping tokenizers/punkt.zip.\n"
          ]
        }
      ],
      "source": [
        "import nltk\n",
        "nltk.download('stopwords')\n",
        "nltk.download('punkt')\n",
        "from nltk.tokenize import word_tokenize\n",
        "from nltk.corpus import stopwords\n",
        "\n",
        "\n",
        "\n",
        "\n",
        "\n"
      ]
    },
    {
      "cell_type": "code",
      "source": [
        "import string\n",
        "stop_words = set(stopwords.words('english'))\n",
        "text = \"We are learning Natural Language Processing;as part of Fundamentals of Machine Learning ,in our second year B.Tech.\"\n",
        "word_tokens = word_tokenize(text)\n",
        "print(word_tokens)\n",
        "\n",
        "filtered_sent = []\n",
        "for i in word_tokens:\n",
        "  if i not in stop_words and i not in string.punctuation:\n",
        "      filtered_sent.append(i)\n",
        "print(filtered_sent)\n"
      ],
      "metadata": {
        "colab": {
          "base_uri": "https://localhost:8080/"
        },
        "id": "RznTnIaNM5t2",
        "outputId": "e6b50131-280f-4b58-8cb5-d04fe61a0e90"
      },
      "execution_count": 2,
      "outputs": [
        {
          "output_type": "stream",
          "name": "stdout",
          "text": [
            "['We', 'are', 'learning', 'Natural', 'Language', 'Processing', ';', 'as', 'part', 'of', 'Fundamentals', 'of', 'Machine', 'Learning', ',', 'in', 'our', 'second', 'year', 'B.Tech', '.']\n",
            "['We', 'learning', 'Natural', 'Language', 'Processing', 'part', 'Fundamentals', 'Machine', 'Learning', 'second', 'year', 'B.Tech']\n"
          ]
        }
      ]
    }
  ]
}